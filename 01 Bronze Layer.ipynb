{
 "cells": [
  {
   "cell_type": "markdown",
   "id": "81d6b708-49b8-4098-af28-63c043e0c4f5",
   "metadata": {
    "nteract": {
     "transient": {
      "deleting": false
     }
    }
   },
   "source": [
    "# <mark></mark>Worldwide Earthquake Events API - Bronze Layer Processing"
   ]
  },
  {
   "cell_type": "code",
   "execution_count": null,
   "id": "1d6b3c33-bb83-49ed-9f67-3cbfbd268a4a",
   "metadata": {
    "jupyter": {
     "outputs_hidden": false,
     "source_hidden": false
    },
    "nteract": {
     "transient": {
      "deleting": false
     }
    }
   },
   "outputs": [],
   "source": [
    "import requests  # For making HTTP requests to external APIs\n",
    "import json      # For working with JSON data\n",
    "\n",
    "# ---------------------------\n",
    "# Bronze Layer: Raw Ingestion of Worldwide Earthquake Events\n",
    "# ---------------------------\n",
    "\n",
    "# NOTE: The variables `start_date` and `end_date` must be defined before running this cell.\n",
    "# They are typically provided by an orchestrator (e.g., Azure Data Factory) to control the data extraction window.\n",
    "\n",
    "# Construct the USGS Earthquake API URL.\n",
    "# - The API returns earthquake events in GeoJSON format.\n",
    "# - The URL is parameterized by start and end dates.\n",
    "url = f\"https://earthquake.usgs.gov/fdsnws/event/1/query?format=geojson&starttime={start_date}&endtime={end_date}\"\n",
    "\n",
    "# Make the GET request to fetch earthquake data from the API.\n",
    "response = requests.get(url)\n",
    "\n",
    "# Check if the request was successful (HTTP 200 OK).\n",
    "if response.status_code == 200:\n",
    "    # Parse the JSON response.\n",
    "    data = response.json()\n",
    "    # The 'features' key contains a list of earthquake event records.\n",
    "    data = data['features']\n",
    "    \n",
    "    # Define the output file path in the 'bronze' (raw) layer of the data lake.\n",
    "    # - The file is named with the start date for traceability.\n",
    "    # - Adjust the path as needed for your environment.\n",
    "    file_path = f'/lakehouse/default/Files/{start_date}_earthquake_data.json'\n",
    "    \n",
    "    # Write the earthquake event data to a JSON file.\n",
    "    # - indent=4 makes the output human-readable.\n",
    "    with open(file_path, 'w') as file:\n",
    "        json.dump(data, file, indent=4)\n",
    "        \n",
    "    print(f\"Data successfully saved to {file_path}\")\n",
    "else:\n",
    "    # Print an error message if the API call fails.\n",
    "    print(\"Failed to fetch data. Status code:\", response.status_code)\n",
    "\n",
    "# ---------------------------\n",
    "# Additional Info:\n",
    "# - This notebook implements the 'bronze' layer in a medallion architecture, storing raw data for traceability.\n",
    "# - The saved JSON file can be used for further processing in the silver/gold layers.\n",
    "# - Consider adding error handling for missing variables and unexpected API responses in"
   ]
  }
 ],
 "metadata": {
  "dependencies": {
   "lakehouse": {}
  },
  "kernel_info": {
   "name": "synapse_pyspark"
  },
  "kernelspec": {
   "display_name": "Synapse PySpark",
   "language": "Python",
   "name": "synapse_pyspark"
  },
  "language_info": {
   "name": "python"
  },
  "microsoft": {
   "language": "python",
   "ms_spell_check": {
    "ms_spell_check_language": "en"
   }
  },
  "nteract": {
   "version": "nteract-front-end@1.0.0"
  },
  "spark_compute": {
   "compute_id": "/trident/default"
  },
  "synapse_widget": {
   "state": {},
   "version": "0.1"
  },
  "widgets": {}
 },
 "nbformat": 4,
 "nbformat_minor": 5
}
